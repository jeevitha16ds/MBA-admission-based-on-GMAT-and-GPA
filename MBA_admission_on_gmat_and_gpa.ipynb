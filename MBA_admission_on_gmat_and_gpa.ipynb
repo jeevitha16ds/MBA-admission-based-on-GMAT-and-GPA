{
  "nbformat": 4,
  "nbformat_minor": 0,
  "metadata": {
    "colab": {
      "name": "MBA_admission on gmat and gpa.ipynb",
      "provenance": []
    },
    "kernelspec": {
      "name": "python3",
      "display_name": "Python 3"
    },
    "language_info": {
      "name": "python"
    }
  },
  "cells": [
    {
      "cell_type": "code",
      "metadata": {
        "id": "OQDqxcyKVyaP"
      },
      "source": [
        "import numpy as np\n",
        "import pandas as pd\n",
        "import matplotlib.pyplot as plt\n",
        "import seaborn as sns\n",
        "%matplotlib inline\n",
        "import warnings\n",
        "warnings.filterwarnings('ignore')\n"
      ],
      "execution_count": 150,
      "outputs": []
    },
    {
      "cell_type": "code",
      "metadata": {
        "id": "lyk-CcOogXAp"
      },
      "source": [
        "data=pd.read_csv('Admission.csv')"
      ],
      "execution_count": 151,
      "outputs": []
    },
    {
      "cell_type": "code",
      "metadata": {
        "colab": {
          "base_uri": "https://localhost:8080/",
          "height": 417
        },
        "id": "CA4E_tSsgnUt",
        "outputId": "5f0e89ef-4794-443a-ff56-7eea71fe6a34"
      },
      "source": [
        "data"
      ],
      "execution_count": 152,
      "outputs": [
        {
          "output_type": "execute_result",
          "data": {
            "text/html": [
              "<div>\n",
              "<style scoped>\n",
              "    .dataframe tbody tr th:only-of-type {\n",
              "        vertical-align: middle;\n",
              "    }\n",
              "\n",
              "    .dataframe tbody tr th {\n",
              "        vertical-align: top;\n",
              "    }\n",
              "\n",
              "    .dataframe thead th {\n",
              "        text-align: right;\n",
              "    }\n",
              "</style>\n",
              "<table border=\"1\" class=\"dataframe\">\n",
              "  <thead>\n",
              "    <tr style=\"text-align: right;\">\n",
              "      <th></th>\n",
              "      <th>GPA</th>\n",
              "      <th>GMAT</th>\n",
              "      <th>Decision</th>\n",
              "    </tr>\n",
              "  </thead>\n",
              "  <tbody>\n",
              "    <tr>\n",
              "      <th>0</th>\n",
              "      <td>2.96</td>\n",
              "      <td>596</td>\n",
              "      <td>admit</td>\n",
              "    </tr>\n",
              "    <tr>\n",
              "      <th>1</th>\n",
              "      <td>3.14</td>\n",
              "      <td>473</td>\n",
              "      <td>admit</td>\n",
              "    </tr>\n",
              "    <tr>\n",
              "      <th>2</th>\n",
              "      <td>3.22</td>\n",
              "      <td>482</td>\n",
              "      <td>admit</td>\n",
              "    </tr>\n",
              "    <tr>\n",
              "      <th>3</th>\n",
              "      <td>3.29</td>\n",
              "      <td>527</td>\n",
              "      <td>admit</td>\n",
              "    </tr>\n",
              "    <tr>\n",
              "      <th>4</th>\n",
              "      <td>3.69</td>\n",
              "      <td>505</td>\n",
              "      <td>admit</td>\n",
              "    </tr>\n",
              "    <tr>\n",
              "      <th>...</th>\n",
              "      <td>...</td>\n",
              "      <td>...</td>\n",
              "      <td>...</td>\n",
              "    </tr>\n",
              "    <tr>\n",
              "      <th>80</th>\n",
              "      <td>3.05</td>\n",
              "      <td>399</td>\n",
              "      <td>border</td>\n",
              "    </tr>\n",
              "    <tr>\n",
              "      <th>81</th>\n",
              "      <td>2.85</td>\n",
              "      <td>483</td>\n",
              "      <td>border</td>\n",
              "    </tr>\n",
              "    <tr>\n",
              "      <th>82</th>\n",
              "      <td>3.01</td>\n",
              "      <td>453</td>\n",
              "      <td>border</td>\n",
              "    </tr>\n",
              "    <tr>\n",
              "      <th>83</th>\n",
              "      <td>3.03</td>\n",
              "      <td>414</td>\n",
              "      <td>border</td>\n",
              "    </tr>\n",
              "    <tr>\n",
              "      <th>84</th>\n",
              "      <td>3.04</td>\n",
              "      <td>446</td>\n",
              "      <td>border</td>\n",
              "    </tr>\n",
              "  </tbody>\n",
              "</table>\n",
              "<p>85 rows × 3 columns</p>\n",
              "</div>"
            ],
            "text/plain": [
              "     GPA  GMAT Decision\n",
              "0   2.96   596    admit\n",
              "1   3.14   473    admit\n",
              "2   3.22   482    admit\n",
              "3   3.29   527    admit\n",
              "4   3.69   505    admit\n",
              "..   ...   ...      ...\n",
              "80  3.05   399   border\n",
              "81  2.85   483   border\n",
              "82  3.01   453   border\n",
              "83  3.03   414   border\n",
              "84  3.04   446   border\n",
              "\n",
              "[85 rows x 3 columns]"
            ]
          },
          "metadata": {},
          "execution_count": 152
        }
      ]
    },
    {
      "cell_type": "code",
      "metadata": {
        "colab": {
          "base_uri": "https://localhost:8080/"
        },
        "id": "rR8QZu5-goEV",
        "outputId": "ca6e347b-de80-46f2-d8e9-f26c75117ae7"
      },
      "source": [
        "data.shape"
      ],
      "execution_count": 153,
      "outputs": [
        {
          "output_type": "execute_result",
          "data": {
            "text/plain": [
              "(85, 3)"
            ]
          },
          "metadata": {},
          "execution_count": 153
        }
      ]
    },
    {
      "cell_type": "code",
      "metadata": {
        "colab": {
          "base_uri": "https://localhost:8080/"
        },
        "id": "UUCl3Cffhlyb",
        "outputId": "1b76c293-8882-4bca-e7f4-4a19f54e62f9"
      },
      "source": [
        "data.info"
      ],
      "execution_count": 154,
      "outputs": [
        {
          "output_type": "execute_result",
          "data": {
            "text/plain": [
              "<bound method DataFrame.info of      GPA  GMAT Decision\n",
              "0   2.96   596    admit\n",
              "1   3.14   473    admit\n",
              "2   3.22   482    admit\n",
              "3   3.29   527    admit\n",
              "4   3.69   505    admit\n",
              "..   ...   ...      ...\n",
              "80  3.05   399   border\n",
              "81  2.85   483   border\n",
              "82  3.01   453   border\n",
              "83  3.03   414   border\n",
              "84  3.04   446   border\n",
              "\n",
              "[85 rows x 3 columns]>"
            ]
          },
          "metadata": {},
          "execution_count": 154
        }
      ]
    },
    {
      "cell_type": "code",
      "metadata": {
        "colab": {
          "base_uri": "https://localhost:8080/"
        },
        "id": "0vBEdqyhhmoj",
        "outputId": "8f00b34b-67a1-4fb2-c295-6d6c04bb43ca"
      },
      "source": [
        "missing=data.isnull().sum().sort_values(ascending=False)\n",
        "missing[missing>0]\n"
      ],
      "execution_count": 155,
      "outputs": [
        {
          "output_type": "execute_result",
          "data": {
            "text/plain": [
              "Series([], dtype: int64)"
            ]
          },
          "metadata": {},
          "execution_count": 155
        }
      ]
    },
    {
      "cell_type": "code",
      "metadata": {
        "colab": {
          "base_uri": "https://localhost:8080/"
        },
        "id": "zXthclrVh1Cm",
        "outputId": "10cffda9-1851-43cf-dbcf-90ef7c4b2f34"
      },
      "source": [
        "cat=data.select_dtypes(include=\"object\")\n",
        "cat.columns"
      ],
      "execution_count": 157,
      "outputs": [
        {
          "output_type": "execute_result",
          "data": {
            "text/plain": [
              "Index(['Decision'], dtype='object')"
            ]
          },
          "metadata": {},
          "execution_count": 157
        }
      ]
    },
    {
      "cell_type": "code",
      "metadata": {
        "colab": {
          "base_uri": "https://localhost:8080/"
        },
        "id": "Fmr877Y1h5rZ",
        "outputId": "210c5267-23ec-4fd9-9dca-99aac215ecdc"
      },
      "source": [
        "num=data.select_dtypes(include=[\"int64\",\"float64\"])\n",
        "num.columns"
      ],
      "execution_count": 158,
      "outputs": [
        {
          "output_type": "execute_result",
          "data": {
            "text/plain": [
              "Index(['GPA', 'GMAT'], dtype='object')"
            ]
          },
          "metadata": {},
          "execution_count": 158
        }
      ]
    },
    {
      "cell_type": "code",
      "metadata": {
        "id": "wazh7M7OlS57"
      },
      "source": [
        "for x in num.columns:\n",
        "\n",
        " data[x]=data[x].fillna(data[x].mean())"
      ],
      "execution_count": 159,
      "outputs": []
    },
    {
      "cell_type": "code",
      "metadata": {
        "colab": {
          "base_uri": "https://localhost:8080/"
        },
        "id": "ldcc4ieCh7hE",
        "outputId": "32e842a9-0ab6-4e9f-cb0d-1e6d85451eb6"
      },
      "source": [
        "for x in cat.columns:\n",
        "  print(x)\n",
        "  print(\"unique values are\")\n",
        "  print(data[x].unique())\n",
        "  print(\"no of unique values\",data[x].nunique())\n",
        "  print(\"value counts\")\n",
        "  print(data[x].value_counts())\n",
        "  print()"
      ],
      "execution_count": 161,
      "outputs": [
        {
          "output_type": "stream",
          "name": "stdout",
          "text": [
            "Decision\n",
            "unique values are\n",
            "['admit' 'notadmit' 'border']\n",
            "no of unique values 3\n",
            "value counts\n",
            "admit       31\n",
            "notadmit    28\n",
            "border      26\n",
            "Name: Decision, dtype: int64\n",
            "\n"
          ]
        }
      ]
    },
    {
      "cell_type": "code",
      "metadata": {
        "colab": {
          "base_uri": "https://localhost:8080/",
          "height": 334
        },
        "id": "YQJ38vR0h-jq",
        "outputId": "7bdafb22-e125-40fb-b489-61c3ad569971"
      },
      "source": [
        "cat=data.select_dtypes(include=\"object\")\n",
        "L=[1,1,1]\n",
        "a,b,c=L\n",
        "fig=plt.figure(figsize=(5,5))\n",
        "for x in cat:\n",
        "  plt.subplot(a,b,c)\n",
        "  sns.countplot(data[x])\n",
        "\n",
        "  \n",
        "  c=c+1\n"
      ],
      "execution_count": 164,
      "outputs": [
        {
          "output_type": "display_data",
          "data": {
            "image/png": "[encoded data removed]",
            "text/plain": [
              "<Figure size 360x360 with 1 Axes>"
            ]
          },
          "metadata": {
            "needs_background": "light"
          }
        }
      ]
    },
    {
      "cell_type": "code",
      "metadata": {
        "colab": {
          "base_uri": "https://localhost:8080/",
          "height": 309
        },
        "id": "ia2VrptliLYG",
        "outputId": "ab2186a6-6f66-4fe8-c062-27a21cc187f1"
      },
      "source": [
        "num=data.select_dtypes(include=[\"int64\",\"float64\"])\n",
        "L=[2,2,1]\n",
        "a,b,c=L\n",
        "fig=plt.figure(figsize=(10,10))\n",
        "for x in num:\n",
        "  plt.subplot(a,b,c)\n",
        "  sns.distplot(data[x],color=\"green\")\n",
        "  \n",
        "  c=c+1"
      ],
      "execution_count": 169,
      "outputs": [
        {
          "output_type": "display_data",
          "data": {
            "image/png": "[encoded data removed]",
            "text/plain": [
              "<Figure size 720x720 with 2 Axes>"
            ]
          },
          "metadata": {
            "needs_background": "light"
          }
        }
      ]
    },
    {
      "cell_type": "code",
      "metadata": {
        "colab": {
          "base_uri": "https://localhost:8080/",
          "height": 309
        },
        "id": "w8xINWMUiaDQ",
        "outputId": "6cd85cd4-b0da-4919-87fe-3868e584a097"
      },
      "source": [
        "num=data.select_dtypes(include=[\"int64\",\"float64\"])\n",
        "L=[2,2,1]\n",
        "a,b,c=L\n",
        "fig=plt.figure(figsize=(10,10))\n",
        "for x in num:\n",
        "  plt.subplot(a,b,c)\n",
        "  sns.boxplot(data[x],color=\"gold\")\n",
        "  \n",
        "  c=c+1"
      ],
      "execution_count": 171,
      "outputs": [
        {
          "output_type": "display_data",
          "data": {
            "image/png": "[encoded data removed]",
            "text/plain": [
              "<Figure size 720x720 with 2 Axes>"
            ]
          },
          "metadata": {
            "needs_background": "light"
          }
        }
      ]
    },
    {
      "cell_type": "code",
      "metadata": {
        "colab": {
          "base_uri": "https://localhost:8080/",
          "height": 309
        },
        "id": "3XbC-f07ihPR",
        "outputId": "ea70241b-fcfa-4501-90f5-fe679f50ed66"
      },
      "source": [
        "num=data.select_dtypes(include=[\"int64\",\"float64\"])\n",
        "L=[2,2,1]\n",
        "a,b,c=L\n",
        "fig=plt.figure(figsize=(10,10))\n",
        "for x in num:\n",
        "  plt.subplot(a,b,c)\n",
        "  sns.scatterplot(data[x],data['GMAT'])\n",
        "  \n",
        "  c=c+1"
      ],
      "execution_count": 173,
      "outputs": [
        {
          "output_type": "display_data",
          "data": {
            "image/png": "[encoded data removed]",
            "text/plain": [
              "<Figure size 720x720 with 2 Axes>"
            ]
          },
          "metadata": {
            "needs_background": "light"
          }
        }
      ]
    },
    {
      "cell_type": "code",
      "metadata": {
        "colab": {
          "base_uri": "https://localhost:8080/",
          "height": 110
        },
        "id": "dzQWYxIqjK87",
        "outputId": "9c692810-19e2-4981-eb56-d133ef7d6eec"
      },
      "source": [
        "data.describe().T"
      ],
      "execution_count": 176,
      "outputs": [
        {
          "output_type": "execute_result",
          "data": {
            "text/html": [
              "<div>\n",
              "<style scoped>\n",
              "    .dataframe tbody tr th:only-of-type {\n",
              "        vertical-align: middle;\n",
              "    }\n",
              "\n",
              "    .dataframe tbody tr th {\n",
              "        vertical-align: top;\n",
              "    }\n",
              "\n",
              "    .dataframe thead th {\n",
              "        text-align: right;\n",
              "    }\n",
              "</style>\n",
              "<table border=\"1\" class=\"dataframe\">\n",
              "  <thead>\n",
              "    <tr style=\"text-align: right;\">\n",
              "      <th></th>\n",
              "      <th>count</th>\n",
              "      <th>mean</th>\n",
              "      <th>std</th>\n",
              "      <th>min</th>\n",
              "      <th>25%</th>\n",
              "      <th>50%</th>\n",
              "      <th>75%</th>\n",
              "      <th>max</th>\n",
              "    </tr>\n",
              "  </thead>\n",
              "  <tbody>\n",
              "    <tr>\n",
              "      <th>GPA</th>\n",
              "      <td>85.0</td>\n",
              "      <td>2.974588</td>\n",
              "      <td>0.428995</td>\n",
              "      <td>2.13</td>\n",
              "      <td>2.6</td>\n",
              "      <td>3.01</td>\n",
              "      <td>3.3</td>\n",
              "      <td>3.8</td>\n",
              "    </tr>\n",
              "    <tr>\n",
              "      <th>GMAT</th>\n",
              "      <td>85.0</td>\n",
              "      <td>488.447059</td>\n",
              "      <td>81.522347</td>\n",
              "      <td>313.00</td>\n",
              "      <td>425.0</td>\n",
              "      <td>482.00</td>\n",
              "      <td>538.0</td>\n",
              "      <td>693.0</td>\n",
              "    </tr>\n",
              "  </tbody>\n",
              "</table>\n",
              "</div>"
            ],
            "text/plain": [
              "      count        mean        std     min    25%     50%    75%    max\n",
              "GPA    85.0    2.974588   0.428995    2.13    2.6    3.01    3.3    3.8\n",
              "GMAT   85.0  488.447059  81.522347  313.00  425.0  482.00  538.0  693.0"
            ]
          },
          "metadata": {},
          "execution_count": 176
        }
      ]
    },
    {
      "cell_type": "code",
      "metadata": {
        "colab": {
          "base_uri": "https://localhost:8080/",
          "height": 342
        },
        "id": "u9RUF7qujMnL",
        "outputId": "849ca19a-4d54-48da-97c7-0026a3429209"
      },
      "source": [
        "# plotting Heat map\n",
        "corr=data.corr()\n",
        "plt.subplots(figsize=(5,5))\n",
        "sns.heatmap(corr ,cmap=\"YlGnBu\",annot=False)"
      ],
      "execution_count": 179,
      "outputs": [
        {
          "output_type": "execute_result",
          "data": {
            "text/plain": [
              "<matplotlib.axes._subplots.AxesSubplot at 0x7fa4c07e7d90>"
            ]
          },
          "metadata": {},
          "execution_count": 179
        },
        {
          "output_type": "display_data",
          "data": {
            "image/png": "[encoded data removed]",
            "text/plain": [
              "<Figure size 360x360 with 2 Axes>"
            ]
          },
          "metadata": {
            "needs_background": "light"
          }
        }
      ]
    },
    {
      "cell_type": "code",
      "metadata": {
        "id": "ZyYQ730Ll137"
      },
      "source": [
        "from sklearn.preprocessing import LabelEncoder\n",
        "label=LabelEncoder()\n",
        "cat_data=data.select_dtypes(include='object')\n",
        "for x in cat_data:\n",
        "  data[x]=label.fit_transform(data[x].astype(str))"
      ],
      "execution_count": 181,
      "outputs": []
    },
    {
      "cell_type": "code",
      "metadata": {
        "id": "ODTcKwAml9AJ",
        "colab": {
          "base_uri": "https://localhost:8080/",
          "height": 417
        },
        "outputId": "fb71ebb7-640e-46d7-fb11-524421dea408"
      },
      "source": [
        "data"
      ],
      "execution_count": 182,
      "outputs": [
        {
          "output_type": "execute_result",
          "data": {
            "text/html": [
              "<div>\n",
              "<style scoped>\n",
              "    .dataframe tbody tr th:only-of-type {\n",
              "        vertical-align: middle;\n",
              "    }\n",
              "\n",
              "    .dataframe tbody tr th {\n",
              "        vertical-align: top;\n",
              "    }\n",
              "\n",
              "    .dataframe thead th {\n",
              "        text-align: right;\n",
              "    }\n",
              "</style>\n",
              "<table border=\"1\" class=\"dataframe\">\n",
              "  <thead>\n",
              "    <tr style=\"text-align: right;\">\n",
              "      <th></th>\n",
              "      <th>GPA</th>\n",
              "      <th>GMAT</th>\n",
              "      <th>Decision</th>\n",
              "    </tr>\n",
              "  </thead>\n",
              "  <tbody>\n",
              "    <tr>\n",
              "      <th>0</th>\n",
              "      <td>2.96</td>\n",
              "      <td>596</td>\n",
              "      <td>0</td>\n",
              "    </tr>\n",
              "    <tr>\n",
              "      <th>1</th>\n",
              "      <td>3.14</td>\n",
              "      <td>473</td>\n",
              "      <td>0</td>\n",
              "    </tr>\n",
              "    <tr>\n",
              "      <th>2</th>\n",
              "      <td>3.22</td>\n",
              "      <td>482</td>\n",
              "      <td>0</td>\n",
              "    </tr>\n",
              "    <tr>\n",
              "      <th>3</th>\n",
              "      <td>3.29</td>\n",
              "      <td>527</td>\n",
              "      <td>0</td>\n",
              "    </tr>\n",
              "    <tr>\n",
              "      <th>4</th>\n",
              "      <td>3.69</td>\n",
              "      <td>505</td>\n",
              "      <td>0</td>\n",
              "    </tr>\n",
              "    <tr>\n",
              "      <th>...</th>\n",
              "      <td>...</td>\n",
              "      <td>...</td>\n",
              "      <td>...</td>\n",
              "    </tr>\n",
              "    <tr>\n",
              "      <th>80</th>\n",
              "      <td>3.05</td>\n",
              "      <td>399</td>\n",
              "      <td>1</td>\n",
              "    </tr>\n",
              "    <tr>\n",
              "      <th>81</th>\n",
              "      <td>2.85</td>\n",
              "      <td>483</td>\n",
              "      <td>1</td>\n",
              "    </tr>\n",
              "    <tr>\n",
              "      <th>82</th>\n",
              "      <td>3.01</td>\n",
              "      <td>453</td>\n",
              "      <td>1</td>\n",
              "    </tr>\n",
              "    <tr>\n",
              "      <th>83</th>\n",
              "      <td>3.03</td>\n",
              "      <td>414</td>\n",
              "      <td>1</td>\n",
              "    </tr>\n",
              "    <tr>\n",
              "      <th>84</th>\n",
              "      <td>3.04</td>\n",
              "      <td>446</td>\n",
              "      <td>1</td>\n",
              "    </tr>\n",
              "  </tbody>\n",
              "</table>\n",
              "<p>85 rows × 3 columns</p>\n",
              "</div>"
            ],
            "text/plain": [
              "     GPA  GMAT  Decision\n",
              "0   2.96   596         0\n",
              "1   3.14   473         0\n",
              "2   3.22   482         0\n",
              "3   3.29   527         0\n",
              "4   3.69   505         0\n",
              "..   ...   ...       ...\n",
              "80  3.05   399         1\n",
              "81  2.85   483         1\n",
              "82  3.01   453         1\n",
              "83  3.03   414         1\n",
              "84  3.04   446         1\n",
              "\n",
              "[85 rows x 3 columns]"
            ]
          },
          "metadata": {},
          "execution_count": 182
        }
      ]
    },
    {
      "cell_type": "code",
      "metadata": {
        "id": "lYmOca_8rW_r"
      },
      "source": [
        "x=data.drop(['Decision'],axis=1)\n",
        "y=data[['Decision']]"
      ],
      "execution_count": 183,
      "outputs": []
    },
    {
      "cell_type": "code",
      "metadata": {
        "colab": {
          "base_uri": "https://localhost:8080/"
        },
        "id": "NGGVNruKsDgH",
        "outputId": "2290734e-c317-45f7-f806-1b0b8bc9b68e"
      },
      "source": [
        "#import model to test the model\n",
        "from sklearn.model_selection import train_test_split\n",
        "x_train, x_test, y_train, y_test = train_test_split(x, y, test_size=0.33, random_state=42)\n",
        "x_train.shape, x_test.shape, y_test.shape,y_train.shape"
      ],
      "execution_count": 184,
      "outputs": [
        {
          "output_type": "execute_result",
          "data": {
            "text/plain": [
              "((56, 2), (29, 2), (29, 1), (56, 1))"
            ]
          },
          "metadata": {},
          "execution_count": 184
        }
      ]
    },
    {
      "cell_type": "code",
      "metadata": {
        "colab": {
          "base_uri": "https://localhost:8080/"
        },
        "id": "FtgrMuQ2sgQD",
        "outputId": "3c012b23-1935-41b5-c202-413541318540"
      },
      "source": [
        "from xgboost import XGBClassifier\n",
        "model_xgb=XGBClassifier()\n",
        "model_xgb.fit(x_train,y_train)\n",
        "xgb_predict=model_xgb.predict(x_test)\n",
        "from sklearn.metrics import accuracy_score ,recall_score, precision_score,f1_score,confusion_matrix,classification_report\n",
        "print('accuracy score :\\n',accuracy_score(y_true=y_test,y_pred=xgb_predict))\n",
        "print(classification_report(y_test,xgb_predict))\n",
        "confusion_matrix(y_test,xgb_predict)"
      ],
      "execution_count": 185,
      "outputs": [
        {
          "output_type": "stream",
          "name": "stdout",
          "text": [
            "accuracy score :\n",
            " 1.0\n",
            "              precision    recall  f1-score   support\n",
            "\n",
            "           0       1.00      1.00      1.00        11\n",
            "           1       1.00      1.00      1.00         7\n",
            "           2       1.00      1.00      1.00        11\n",
            "\n",
            "    accuracy                           1.00        29\n",
            "   macro avg       1.00      1.00      1.00        29\n",
            "weighted avg       1.00      1.00      1.00        29\n",
            "\n"
          ]
        },
        {
          "output_type": "execute_result",
          "data": {
            "text/plain": [
              "array([[11,  0,  0],\n",
              "       [ 0,  7,  0],\n",
              "       [ 0,  0, 11]])"
            ]
          },
          "metadata": {},
          "execution_count": 185
        }
      ]
    },
    {
      "cell_type": "code",
      "metadata": {
        "colab": {
          "base_uri": "https://localhost:8080/"
        },
        "id": "85f9jLQ9suEB",
        "outputId": "b5849e86-3f68-4c40-d800-da3568c1adf8"
      },
      "source": [
        "from sklearn.ensemble import RandomForestClassifier\n",
        "model_RF=RandomForestClassifier()\n",
        "model_RF.fit(x_train,y_train)\n",
        "RF_predict=model_RF.predict(x_test)\n",
        "from sklearn.metrics import accuracy_score ,recall_score, precision_score,f1_score,confusion_matrix,classification_report\n",
        "print('accuracy score :\\n',accuracy_score(y_true=y_test,y_pred=RF_predict))\n",
        "print(classification_report(y_test,RF_predict))\n",
        "confusion_matrix(y_test,RF_predict)"
      ],
      "execution_count": 186,
      "outputs": [
        {
          "output_type": "stream",
          "name": "stdout",
          "text": [
            "accuracy score :\n",
            " 1.0\n",
            "              precision    recall  f1-score   support\n",
            "\n",
            "           0       1.00      1.00      1.00        11\n",
            "           1       1.00      1.00      1.00         7\n",
            "           2       1.00      1.00      1.00        11\n",
            "\n",
            "    accuracy                           1.00        29\n",
            "   macro avg       1.00      1.00      1.00        29\n",
            "weighted avg       1.00      1.00      1.00        29\n",
            "\n"
          ]
        },
        {
          "output_type": "execute_result",
          "data": {
            "text/plain": [
              "array([[11,  0,  0],\n",
              "       [ 0,  7,  0],\n",
              "       [ 0,  0, 11]])"
            ]
          },
          "metadata": {},
          "execution_count": 186
        }
      ]
    },
    {
      "cell_type": "code",
      "metadata": {
        "colab": {
          "base_uri": "https://localhost:8080/"
        },
        "id": "fu1zSy4NsyHW",
        "outputId": "20ca7a27-f487-47cf-a8cd-929a44ccbb9a"
      },
      "source": [
        "import lightgbm as lgb\n",
        "model_lgb=lgb.LGBMClassifier()\n",
        "model_lgb.fit(x_train,y_train)\n",
        "lgb_predict=model_lgb.predict(x_test)\n",
        "from sklearn.metrics import accuracy_score ,confusion_matrix \n",
        "from sklearn.metrics import accuracy_score ,recall_score, precision_score,f1_score,confusion_matrix,classification_report\n",
        "print('accuracy score :\\n',accuracy_score(y_true=y_test,y_pred=lgb_predict))\n",
        "print(classification_report(y_test,lgb_predict))\n",
        "confusion_matrix(y_test,lgb_predict)"
      ],
      "execution_count": 187,
      "outputs": [
        {
          "output_type": "stream",
          "name": "stdout",
          "text": [
            "accuracy score :\n",
            " 0.9655172413793104\n",
            "              precision    recall  f1-score   support\n",
            "\n",
            "           0       0.92      1.00      0.96        11\n",
            "           1       1.00      0.86      0.92         7\n",
            "           2       1.00      1.00      1.00        11\n",
            "\n",
            "    accuracy                           0.97        29\n",
            "   macro avg       0.97      0.95      0.96        29\n",
            "weighted avg       0.97      0.97      0.96        29\n",
            "\n"
          ]
        },
        {
          "output_type": "execute_result",
          "data": {
            "text/plain": [
              "array([[11,  0,  0],\n",
              "       [ 1,  6,  0],\n",
              "       [ 0,  0, 11]])"
            ]
          },
          "metadata": {},
          "execution_count": 187
        }
      ]
    },
    {
      "cell_type": "code",
      "metadata": {
        "colab": {
          "base_uri": "https://localhost:8080/"
        },
        "id": "6_tOMmE4s2SW",
        "outputId": "76350863-15d8-471d-f02d-788c3affa897"
      },
      "source": [
        "from sklearn.tree import DecisionTreeClassifier\n",
        "model_DT= DecisionTreeClassifier()\n",
        "model_DT.fit(x_train,y_train)\n",
        "DT_predict=model_DT.predict(x_test)\n",
        "from sklearn.metrics import accuracy_score ,recall_score, precision_score,f1_score,confusion_matrix,classification_report\n",
        "print('accuracy score :\\n',accuracy_score(y_true=y_test,y_pred=DT_predict))\n",
        "print(classification_report(y_test,DT_predict))\n",
        "confusion_matrix(y_test,DT_predict)\n"
      ],
      "execution_count": 188,
      "outputs": [
        {
          "output_type": "stream",
          "name": "stdout",
          "text": [
            "accuracy score :\n",
            " 1.0\n",
            "              precision    recall  f1-score   support\n",
            "\n",
            "           0       1.00      1.00      1.00        11\n",
            "           1       1.00      1.00      1.00         7\n",
            "           2       1.00      1.00      1.00        11\n",
            "\n",
            "    accuracy                           1.00        29\n",
            "   macro avg       1.00      1.00      1.00        29\n",
            "weighted avg       1.00      1.00      1.00        29\n",
            "\n"
          ]
        },
        {
          "output_type": "execute_result",
          "data": {
            "text/plain": [
              "array([[11,  0,  0],\n",
              "       [ 0,  7,  0],\n",
              "       [ 0,  0, 11]])"
            ]
          },
          "metadata": {},
          "execution_count": 188
        }
      ]
    },
    {
      "cell_type": "code",
      "metadata": {
        "colab": {
          "base_uri": "https://localhost:8080/"
        },
        "id": "gwFO-CIys5VY",
        "outputId": "4483d31d-1b4a-466d-8e51-09eaaab607ae"
      },
      "source": [
        "from sklearn.neighbors import KNeighborsClassifier\n",
        "model_KNN = KNeighborsClassifier(algorithm='brute', leaf_size=30, metric='minkowski',\n",
        "                     metric_params=None, n_jobs=1, n_neighbors=2, p=1,\n",
        "                     weights='uniform')\n",
        "model_KNN.fit(x_train,y_train)\n",
        "KNN_predict=model_KNN.predict(x_test)\n",
        "from sklearn.metrics import accuracy_score ,recall_score, precision_score,f1_score,confusion_matrix,classification_report\n",
        "print('accuracy score :\\n',accuracy_score(y_true=y_test,y_pred=KNN_predict))\n",
        "print(classification_report(y_test,KNN_predict))\n",
        "confusion_matrix(y_test,KNN_predict)\n"
      ],
      "execution_count": 189,
      "outputs": [
        {
          "output_type": "stream",
          "name": "stdout",
          "text": [
            "accuracy score :\n",
            " 0.5517241379310345\n",
            "              precision    recall  f1-score   support\n",
            "\n",
            "           0       0.69      0.82      0.75        11\n",
            "           1       0.40      0.57      0.47         7\n",
            "           2       0.50      0.27      0.35        11\n",
            "\n",
            "    accuracy                           0.55        29\n",
            "   macro avg       0.53      0.55      0.52        29\n",
            "weighted avg       0.55      0.55      0.53        29\n",
            "\n"
          ]
        },
        {
          "output_type": "execute_result",
          "data": {
            "text/plain": [
              "array([[9, 1, 1],\n",
              "       [1, 4, 2],\n",
              "       [3, 5, 3]])"
            ]
          },
          "metadata": {},
          "execution_count": 189
        }
      ]
    },
    {
      "cell_type": "code",
      "metadata": {
        "colab": {
          "base_uri": "https://localhost:8080/"
        },
        "id": "-b8SwhkxtAaU",
        "outputId": "d843f2f6-0b12-4a92-ced3-dc3f72dfd111"
      },
      "source": [
        "from sklearn.ensemble import  AdaBoostClassifier\n",
        "model_ab=AdaBoostClassifier()\n",
        "model_ab.fit(x_train,y_train)\n",
        "ab_predict=model_ab.predict(x_test)\n",
        "from sklearn.metrics import accuracy_score ,recall_score, precision_score,f1_score,confusion_matrix,classification_report\n",
        "print('accuracy score :\\n',accuracy_score(y_true=y_test,y_pred=ab_predict))\n",
        "print(classification_report(y_test,ab_predict))\n",
        "confusion_matrix(y_test,ab_predict)"
      ],
      "execution_count": 190,
      "outputs": [
        {
          "output_type": "stream",
          "name": "stdout",
          "text": [
            "accuracy score :\n",
            " 0.7586206896551724\n",
            "              precision    recall  f1-score   support\n",
            "\n",
            "           0       0.65      1.00      0.79        11\n",
            "           1       0.00      0.00      0.00         7\n",
            "           2       0.92      1.00      0.96        11\n",
            "\n",
            "    accuracy                           0.76        29\n",
            "   macro avg       0.52      0.67      0.58        29\n",
            "weighted avg       0.59      0.76      0.66        29\n",
            "\n"
          ]
        },
        {
          "output_type": "execute_result",
          "data": {
            "text/plain": [
              "array([[11,  0,  0],\n",
              "       [ 6,  0,  1],\n",
              "       [ 0,  0, 11]])"
            ]
          },
          "metadata": {},
          "execution_count": 190
        }
      ]
    },
    {
      "cell_type": "code",
      "metadata": {
        "colab": {
          "base_uri": "https://localhost:8080/"
        },
        "id": "tQwQ6F--BEPw",
        "outputId": "140e0626-ae98-4fb2-dc1e-9594ab6d66a2"
      },
      "source": [
        "from sklearn.ensemble import  GradientBoostingClassifier\n",
        "model_gb=GradientBoostingClassifier()\n",
        "model_gb.fit(x_train,y_train)\n",
        "gb_predict=model_gb.predict(x_test)\n",
        "from sklearn.metrics import accuracy_score ,recall_score, precision_score,f1_score,confusion_matrix,classification_report\n",
        "print('accuracy score :\\n',accuracy_score(y_true=y_test,y_pred=gb_predict))\n",
        "print(classification_report(y_test,gb_predict))\n",
        "confusion_matrix(y_test,gb_predict)"
      ],
      "execution_count": 191,
      "outputs": [
        {
          "output_type": "stream",
          "name": "stdout",
          "text": [
            "accuracy score :\n",
            " 1.0\n",
            "              precision    recall  f1-score   support\n",
            "\n",
            "           0       1.00      1.00      1.00        11\n",
            "           1       1.00      1.00      1.00         7\n",
            "           2       1.00      1.00      1.00        11\n",
            "\n",
            "    accuracy                           1.00        29\n",
            "   macro avg       1.00      1.00      1.00        29\n",
            "weighted avg       1.00      1.00      1.00        29\n",
            "\n"
          ]
        },
        {
          "output_type": "execute_result",
          "data": {
            "text/plain": [
              "array([[11,  0,  0],\n",
              "       [ 0,  7,  0],\n",
              "       [ 0,  0, 11]])"
            ]
          },
          "metadata": {},
          "execution_count": 191
        }
      ]
    },
    {
      "cell_type": "code",
      "metadata": {
        "colab": {
          "base_uri": "https://localhost:8080/"
        },
        "id": "jWCAo6h4BHOv",
        "outputId": "af0c8069-c9a2-474a-e8c2-e0561c06b2fe"
      },
      "source": [
        "from sklearn.naive_bayes import GaussianNB\n",
        "model=GaussianNB()\n",
        "model.fit(x_train,y_train)\n",
        "NB_predict=model.predict(x_test)\n",
        "from sklearn.metrics import accuracy_score ,recall_score, precision_score,f1_score,confusion_matrix,classification_report\n",
        "print('accuracy score :\\n',accuracy_score(y_true=y_test,y_pred=NB_predict))\n",
        "print(classification_report(y_test,xgb_predict))\n",
        "confusion_matrix(y_test,NB_predict)"
      ],
      "execution_count": 192,
      "outputs": [
        {
          "output_type": "stream",
          "name": "stdout",
          "text": [
            "accuracy score :\n",
            " 0.9655172413793104\n",
            "              precision    recall  f1-score   support\n",
            "\n",
            "           0       1.00      1.00      1.00        11\n",
            "           1       1.00      1.00      1.00         7\n",
            "           2       1.00      1.00      1.00        11\n",
            "\n",
            "    accuracy                           1.00        29\n",
            "   macro avg       1.00      1.00      1.00        29\n",
            "weighted avg       1.00      1.00      1.00        29\n",
            "\n"
          ]
        },
        {
          "output_type": "execute_result",
          "data": {
            "text/plain": [
              "array([[10,  1,  0],\n",
              "       [ 0,  7,  0],\n",
              "       [ 0,  0, 11]])"
            ]
          },
          "metadata": {},
          "execution_count": 192
        }
      ]
    },
    {
      "cell_type": "code",
      "metadata": {
        "colab": {
          "base_uri": "https://localhost:8080/"
        },
        "id": "izoocEhPBOjc",
        "outputId": "4ad2f69d-fa9f-4827-8cc3-d45c38c1b8e8"
      },
      "source": [
        "from sklearn import svm\n",
        "model_svm = svm.SVC()\n",
        "model_svm.fit(x_train, y_train)\n",
        "svm_predict=model_svm.predict(x_test)\n",
        "from sklearn.metrics import accuracy_score ,recall_score, precision_score,f1_score,confusion_matrix,classification_report\n",
        "print('accuracy score :\\n',accuracy_score(y_true=y_test,y_pred=svm_predict))\n",
        "print(classification_report(y_test,svm_predict))\n",
        "confusion_matrix(y_test,svm_predict)"
      ],
      "execution_count": 194,
      "outputs": [
        {
          "output_type": "stream",
          "name": "stdout",
          "text": [
            "accuracy score :\n",
            " 0.5517241379310345\n",
            "              precision    recall  f1-score   support\n",
            "\n",
            "           0       0.75      0.82      0.78        11\n",
            "           1       0.41      1.00      0.58         7\n",
            "           2       0.00      0.00      0.00        11\n",
            "\n",
            "    accuracy                           0.55        29\n",
            "   macro avg       0.39      0.61      0.46        29\n",
            "weighted avg       0.38      0.55      0.44        29\n",
            "\n"
          ]
        },
        {
          "output_type": "execute_result",
          "data": {
            "text/plain": [
              "array([[9, 2, 0],\n",
              "       [0, 7, 0],\n",
              "       [3, 8, 0]])"
            ]
          },
          "metadata": {},
          "execution_count": 194
        }
      ]
    },
    {
      "cell_type": "code",
      "metadata": {
        "id": "pZoJG5S3BR3i"
      },
      "source": [
        ""
      ],
      "execution_count": null,
      "outputs": []
    }
  ]
}